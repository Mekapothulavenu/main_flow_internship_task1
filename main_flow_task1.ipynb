{
 "cells": [
  {
   "cell_type": "markdown",
   "id": "8501322f-b12b-4b52-94c8-ca03fc4f6ae2",
   "metadata": {},
   "source": [
    "<h3>LIST OPERATIONS AND EXAMPLE</h3>"
   ]
  },
  {
   "cell_type": "code",
   "execution_count": 3,
   "id": "f175e0ce-a8a6-479d-bdd0-ddbb6c52a86a",
   "metadata": {},
   "outputs": [
    {
     "name": "stdout",
     "output_type": "stream",
     "text": [
      "List Operations:\n",
      "Initial List: [1, 2, 3, 4]\n",
      "After Adding 5: [1, 2, 3, 4, 5]\n",
      "After Removing 2: [1, 3, 4, 5]\n",
      "After Modifying Index 1: [1, 10, 4, 5]\n"
     ]
    }
   ],
   "source": [
    "# List Operations\n",
    "print(\"List Operations:\")\n",
    "my_list = [1, 2, 3, 4]\n",
    "print(\"Initial List:\", my_list)\n",
    "\n",
    "# Adding elements to the list\n",
    "my_list.append(5)\n",
    "print(\"After Adding 5:\", my_list)\n",
    "\n",
    "# Removing elements from the list\n",
    "my_list.remove(2)\n",
    "print(\"After Removing 2:\", my_list)\n",
    "\n",
    "# Modifying an element\n",
    "my_list[1] = 10\n",
    "print(\"After Modifying Index 1:\", my_list)\n"
   ]
  },
  {
   "cell_type": "code",
   "execution_count": 2,
   "id": "afb7d0c2-ebcc-4b3c-a8e5-d0e5390cea13",
   "metadata": {},
   "outputs": [
    {
     "name": "stdout",
     "output_type": "stream",
     "text": [
      "Scores after adding 75: [70, 85, 90, 65, 100, 95, 80, 75]\n",
      "Sorted scores: [65, 70, 75, 80, 85, 90, 95, 100]\n",
      "Lowest score removed: 65\n",
      "Scores after removing lowest score: [70, 75, 80, 85, 90, 95, 100]\n",
      "Average score: 85.0\n"
     ]
    }
   ],
   "source": [
    "# List of student scores\n",
    "scores = [70, 85, 90, 65, 100, 95, 80]\n",
    "\n",
    "# 1. Add a new score\n",
    "scores.append(75)\n",
    "print(\"Scores after adding 75:\", scores)\n",
    "\n",
    "# 2. Sort scores in ascending order\n",
    "scores.sort()\n",
    "print(\"Sorted scores:\", scores)\n",
    "\n",
    "# 3. Find and remove the lowest score\n",
    "lowest_score = scores.pop(0)\n",
    "print(\"Lowest score removed:\", lowest_score)\n",
    "print(\"Scores after removing lowest score:\", scores)\n",
    "\n",
    "# 4. Calculate the average score\n",
    "average_score = sum(scores) / len(scores)\n",
    "print(\"Average score:\", average_score)"
   ]
  },
  {
   "cell_type": "markdown",
   "id": "6aaf4dde-3de0-4668-81ea-541a4b439c96",
   "metadata": {},
   "source": [
    "<h3>DICTIONARY OPERATIONS AND EXAMPLE</h3>"
   ]
  },
  {
   "cell_type": "code",
   "execution_count": 6,
   "id": "2217b1c3-9dba-4dc3-84b9-8320f66a9d66",
   "metadata": {},
   "outputs": [
    {
     "name": "stdout",
     "output_type": "stream",
     "text": [
      "\n",
      "Dictionary Operations:\n",
      "Initial Dictionary: {'a': 1, 'b': 2, 'c': 3}\n",
      "After Adding Key 'd': {'a': 1, 'b': 2, 'c': 3, 'd': 4}\n",
      "After Removing Key 'b': {'a': 1, 'c': 3, 'd': 4}\n",
      "After Modifying Value of Key 'a': {'a': 10, 'c': 3, 'd': 4}\n"
     ]
    }
   ],
   "source": [
    "print(\"\\nDictionary Operations:\")\n",
    "# Dictionary Operations\n",
    "my_dict = {'a': 1, 'b': 2, 'c': 3}\n",
    "print(\"Initial Dictionary:\", my_dict)\n",
    "\n",
    "# Adding a new key-value pair\n",
    "my_dict['d'] = 4\n",
    "print(\"After Adding Key 'd':\", my_dict)\n",
    "\n",
    "# Removing a key-value pair\n",
    "del my_dict['b']\n",
    "print(\"After Removing Key 'b':\", my_dict)\n",
    "\n",
    "# Modifying a value\n",
    "my_dict['a'] = 10\n",
    "print(\"After Modifying Value of Key 'a':\", my_dict)"
   ]
  },
  {
   "cell_type": "code",
   "execution_count": 7,
   "id": "5d304332-a3f6-4bd5-ba97-6e50a15ef6bc",
   "metadata": {},
   "outputs": [
    {
     "name": "stdout",
     "output_type": "stream",
     "text": [
      "Student Name: John Doe\n",
      "Age: 21\n",
      "Subjects: Math, Physics, Chemistry\n",
      "{'name': 'John Doe', 'age': 22, 'subjects': ['Math', 'Chemistry'], 'email': 'johndoe@example.com'}\n"
     ]
    }
   ],
   "source": [
    "# Define a dictionary with student details\n",
    "student = {\n",
    "    \"name\": \"John Doe\",\n",
    "    \"age\": 21,\n",
    "    \"subjects\": [\"Math\", \"Physics\", \"Chemistry\"]\n",
    "}\n",
    "\n",
    "# Print student details\n",
    "print(f\"Student Name: {student['name']}\")\n",
    "print(f\"Age: {student['age']}\")\n",
    "print(f\"Subjects: {', '.join(student['subjects'])}\")\n",
    "\n",
    "# Add a new key-value pair\n",
    "student[\"email\"] = \"johndoe@example.com\"\n",
    "\n",
    "# Update age\n",
    "student[\"age\"] = 22\n",
    "\n",
    "# Remove a subject\n",
    "student[\"subjects\"].remove(\"Physics\")\n",
    "\n",
    "# Display the updated dictionary\n",
    "print(student)"
   ]
  },
  {
   "cell_type": "markdown",
   "id": "545ef404-e23f-48b8-aa27-359816503877",
   "metadata": {},
   "source": [
    "<h3>SETS OPERATIONS AND EXAMPLE</h3>"
   ]
  },
  {
   "cell_type": "code",
   "execution_count": 13,
   "id": "c4fbaa8b-65ff-462e-8cf6-835c1d74edbe",
   "metadata": {},
   "outputs": [
    {
     "name": "stdout",
     "output_type": "stream",
     "text": [
      "\n",
      "Set Operations:\n",
      "{'cherry', 'apple', 'banana'}\n",
      "{1, 2, 3, 4, 5}\n",
      "{'cherry', 'apple', 'banana'}\n",
      "{'cherry', 'apple', 'banana', 'orange'}\n",
      "{'cherry'}\n",
      "set()\n"
     ]
    }
   ],
   "source": [
    "print(\"\\nSet Operations:\")\n",
    "# Creating a set using curly braces\n",
    "fruits = {\"apple\", \"banana\", \"cherry\"}\n",
    "print(fruits)  # Output: {'apple', 'banana', 'cherry'}\n",
    "\n",
    "# Creating a set with the set() function\n",
    "numbers = set([1, 2, 3, 4, 5])\n",
    "print(numbers)  # Output: {1, 2, 3, 4, 5}\n",
    "\n",
    "#Use add() to add a single element.\n",
    "\n",
    "fruits = {\"apple\", \"banana\"}\n",
    "fruits.add(\"cherry\")\n",
    "print(fruits)\n",
    "\n",
    "#Use update() to add multiple elements from another set or list.\n",
    "\n",
    "fruits = {\"apple\", \"banana\"}\n",
    "fruits.update([\"cherry\", \"orange\"])\n",
    "print(fruits)\n",
    "\n",
    "#remove() removes a specified element; raises an error if it doesn’t exist.\n",
    "\n",
    "#discard() removes a specified element without an error if it doesn’t exist.\n",
    "\n",
    "#pop() removes and returns an arbitrary element from the set.\n",
    "\n",
    "fruits = {\"apple\", \"banana\", \"cherry\"}\n",
    "fruits.remove(\"banana\")\n",
    "fruits.discard(\"apple\")\n",
    "print(fruits)\n",
    "\n",
    "#clear() empties the set.\n",
    "fruits = {\"apple\", \"banana\", \"cherry\"}\n",
    "fruits.clear()\n",
    "print(fruits)  # Output: set()"
   ]
  },
  {
   "cell_type": "code",
   "execution_count": 10,
   "id": "918299ae-f72e-4dc1-9338-bb0a56e52896",
   "metadata": {},
   "outputs": [
    {
     "name": "stdout",
     "output_type": "stream",
     "text": [
      "Initial Set: {1, 2, 3, 4}\n",
      "After Adding 5: {1, 2, 3, 4, 5}\n",
      "After Removing 3: {1, 2, 4, 5}\n",
      "Is 2 in the set? True\n",
      "Is 6 in the set? False\n",
      "Union of Sets: {1, 2, 4, 5, 6, 7}\n",
      "Intersection of Sets: {4, 5}\n",
      "Difference of Sets: {1, 2}\n",
      "Symmetric Difference of Sets: {1, 2, 6, 7}\n",
      "After Clearing the Set: set()\n"
     ]
    }
   ],
   "source": [
    "# Creating a set\n",
    "my_set = {1, 2, 3, 4}\n",
    "print(\"Initial Set:\", my_set)\n",
    "\n",
    "# Adding an element to the set\n",
    "my_set.add(5)\n",
    "print(\"After Adding 5:\", my_set)\n",
    "\n",
    "# Removing an element from the set\n",
    "my_set.discard(3)  # Discard does not throw an error if the element is not present\n",
    "print(\"After Removing 3:\", my_set)\n",
    "\n",
    "# Checking if an element exists in the set\n",
    "print(\"Is 2 in the set?\", 2 in my_set)\n",
    "print(\"Is 6 in the set?\", 6 in my_set)\n",
    "\n",
    "# Union of two sets\n",
    "another_set = {4, 5, 6, 7}\n",
    "union_set = my_set.union(another_set)\n",
    "print(\"Union of Sets:\", union_set)\n",
    "\n",
    "# Intersection of two sets\n",
    "intersection_set = my_set.intersection(another_set)\n",
    "print(\"Intersection of Sets:\", intersection_set)\n",
    "\n",
    "# Difference of two sets\n",
    "difference_set = my_set.difference(another_set)\n",
    "print(\"Difference of Sets:\", difference_set)\n",
    "\n",
    "# Symmetric Difference of two sets\n",
    "symmetric_difference_set = my_set.symmetric_difference(another_set)\n",
    "print(\"Symmetric Difference of Sets:\", symmetric_difference_set)\n",
    "\n",
    "# Clearing the set\n",
    "my_set.clear()\n",
    "print(\"After Clearing the Set:\", my_set)\n"
   ]
  },
  {
   "cell_type": "code",
   "execution_count": null,
   "id": "4f0ab0ee-048e-4753-9a3b-506e872a1ae7",
   "metadata": {},
   "outputs": [],
   "source": []
  }
 ],
 "metadata": {
  "kernelspec": {
   "display_name": "Python 3 (ipykernel)",
   "language": "python",
   "name": "python3"
  },
  "language_info": {
   "codemirror_mode": {
    "name": "ipython",
    "version": 3
   },
   "file_extension": ".py",
   "mimetype": "text/x-python",
   "name": "python",
   "nbconvert_exporter": "python",
   "pygments_lexer": "ipython3",
   "version": "3.12.7"
  }
 },
 "nbformat": 4,
 "nbformat_minor": 5
}
